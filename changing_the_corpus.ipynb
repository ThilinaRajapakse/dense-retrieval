{
 "cells": [
  {
   "cell_type": "code",
   "execution_count": 1,
   "id": "sapphire-optimum",
   "metadata": {},
   "outputs": [],
   "source": [
    "import json\n",
    "\n",
    "import pandas as pd\n",
    "from tqdm.auto import tqdm"
   ]
  },
  {
   "cell_type": "code",
   "execution_count": 2,
   "id": "constitutional-price",
   "metadata": {},
   "outputs": [],
   "source": [
    "# Dataset from https://allenai.org/data/scifact\n",
    "dataset_dir = \"scifact\""
   ]
  },
  {
   "cell_type": "markdown",
   "id": "subject-hurricane",
   "metadata": {},
   "source": [
    "## Loading the data"
   ]
  },
  {
   "cell_type": "code",
   "execution_count": 3,
   "id": "leading-wichita",
   "metadata": {},
   "outputs": [
    {
     "data": {
      "text/html": [
       "<div>\n",
       "<style scoped>\n",
       "    .dataframe tbody tr th:only-of-type {\n",
       "        vertical-align: middle;\n",
       "    }\n",
       "\n",
       "    .dataframe tbody tr th {\n",
       "        vertical-align: top;\n",
       "    }\n",
       "\n",
       "    .dataframe thead th {\n",
       "        text-align: right;\n",
       "    }\n",
       "</style>\n",
       "<table border=\"1\" class=\"dataframe\">\n",
       "  <thead>\n",
       "    <tr style=\"text-align: right;\">\n",
       "      <th></th>\n",
       "      <th>_id</th>\n",
       "      <th>text</th>\n",
       "      <th>metadata</th>\n",
       "    </tr>\n",
       "  </thead>\n",
       "  <tbody>\n",
       "    <tr>\n",
       "      <th>0</th>\n",
       "      <td>0</td>\n",
       "      <td>0-dimensional biomaterials lack inductive prop...</td>\n",
       "      <td>{}</td>\n",
       "    </tr>\n",
       "    <tr>\n",
       "      <th>1</th>\n",
       "      <td>2</td>\n",
       "      <td>1 in 5 million in UK have abnormal PrP positiv...</td>\n",
       "      <td>{'13734012': [{'sentences': [4], 'label': 'CON...</td>\n",
       "    </tr>\n",
       "    <tr>\n",
       "      <th>2</th>\n",
       "      <td>4</td>\n",
       "      <td>1-1% of colorectal cancer patients are diagnos...</td>\n",
       "      <td>{}</td>\n",
       "    </tr>\n",
       "    <tr>\n",
       "      <th>3</th>\n",
       "      <td>6</td>\n",
       "      <td>10% of sudden infant death syndrome (SIDS) dea...</td>\n",
       "      <td>{}</td>\n",
       "    </tr>\n",
       "    <tr>\n",
       "      <th>4</th>\n",
       "      <td>9</td>\n",
       "      <td>32% of liver transplantation programs required...</td>\n",
       "      <td>{'44265107': [{'sentences': [15], 'label': 'SU...</td>\n",
       "    </tr>\n",
       "    <tr>\n",
       "      <th>...</th>\n",
       "      <td>...</td>\n",
       "      <td>...</td>\n",
       "      <td>...</td>\n",
       "    </tr>\n",
       "    <tr>\n",
       "      <th>1104</th>\n",
       "      <td>1379</td>\n",
       "      <td>Women with a higher birth weight are more like...</td>\n",
       "      <td>{'16322674': [{'sentences': [5], 'label': 'SUP...</td>\n",
       "    </tr>\n",
       "    <tr>\n",
       "      <th>1105</th>\n",
       "      <td>1382</td>\n",
       "      <td>aPKCz causes tumour enhancement by affecting g...</td>\n",
       "      <td>{'17755060': [{'sentences': [3], 'label': 'CON...</td>\n",
       "    </tr>\n",
       "    <tr>\n",
       "      <th>1106</th>\n",
       "      <td>1385</td>\n",
       "      <td>cSMAC formation enhances weak ligand signalling.</td>\n",
       "      <td>{'306006': [{'sentences': [4], 'label': 'SUPPO...</td>\n",
       "    </tr>\n",
       "    <tr>\n",
       "      <th>1107</th>\n",
       "      <td>1389</td>\n",
       "      <td>mTORC2 regulates intracellular cysteine levels...</td>\n",
       "      <td>{'23895668': [{'sentences': [2, 3], 'label': '...</td>\n",
       "    </tr>\n",
       "    <tr>\n",
       "      <th>1108</th>\n",
       "      <td>1395</td>\n",
       "      <td>p16INK4A accumulation is  linked to an abnorma...</td>\n",
       "      <td>{}</td>\n",
       "    </tr>\n",
       "  </tbody>\n",
       "</table>\n",
       "<p>1109 rows × 3 columns</p>\n",
       "</div>"
      ],
      "text/plain": [
       "       _id                                               text  \\\n",
       "0        0  0-dimensional biomaterials lack inductive prop...   \n",
       "1        2  1 in 5 million in UK have abnormal PrP positiv...   \n",
       "2        4  1-1% of colorectal cancer patients are diagnos...   \n",
       "3        6  10% of sudden infant death syndrome (SIDS) dea...   \n",
       "4        9  32% of liver transplantation programs required...   \n",
       "...    ...                                                ...   \n",
       "1104  1379  Women with a higher birth weight are more like...   \n",
       "1105  1382  aPKCz causes tumour enhancement by affecting g...   \n",
       "1106  1385   cSMAC formation enhances weak ligand signalling.   \n",
       "1107  1389  mTORC2 regulates intracellular cysteine levels...   \n",
       "1108  1395  p16INK4A accumulation is  linked to an abnorma...   \n",
       "\n",
       "                                               metadata  \n",
       "0                                                    {}  \n",
       "1     {'13734012': [{'sentences': [4], 'label': 'CON...  \n",
       "2                                                    {}  \n",
       "3                                                    {}  \n",
       "4     {'44265107': [{'sentences': [15], 'label': 'SU...  \n",
       "...                                                 ...  \n",
       "1104  {'16322674': [{'sentences': [5], 'label': 'SUP...  \n",
       "1105  {'17755060': [{'sentences': [3], 'label': 'CON...  \n",
       "1106  {'306006': [{'sentences': [4], 'label': 'SUPPO...  \n",
       "1107  {'23895668': [{'sentences': [2, 3], 'label': '...  \n",
       "1108                                                 {}  \n",
       "\n",
       "[1109 rows x 3 columns]"
      ]
     },
     "execution_count": 3,
     "metadata": {},
     "output_type": "execute_result"
    }
   ],
   "source": [
    "query_df = pd.read_json(f\"data/data_{dataset_dir}/queries.jsonl\", lines=True)\n",
    "query_df"
   ]
  },
  {
   "cell_type": "code",
   "execution_count": 4,
   "id": "abstract-bronze",
   "metadata": {},
   "outputs": [
    {
     "data": {
      "text/html": [
       "<div>\n",
       "<style scoped>\n",
       "    .dataframe tbody tr th:only-of-type {\n",
       "        vertical-align: middle;\n",
       "    }\n",
       "\n",
       "    .dataframe tbody tr th {\n",
       "        vertical-align: top;\n",
       "    }\n",
       "\n",
       "    .dataframe thead th {\n",
       "        text-align: right;\n",
       "    }\n",
       "</style>\n",
       "<table border=\"1\" class=\"dataframe\">\n",
       "  <thead>\n",
       "    <tr style=\"text-align: right;\">\n",
       "      <th></th>\n",
       "      <th>_id</th>\n",
       "      <th>title</th>\n",
       "      <th>text</th>\n",
       "      <th>metadata</th>\n",
       "    </tr>\n",
       "  </thead>\n",
       "  <tbody>\n",
       "    <tr>\n",
       "      <th>0</th>\n",
       "      <td>4983</td>\n",
       "      <td>Microstructural development of human newborn c...</td>\n",
       "      <td>Alterations of the architecture of cerebral wh...</td>\n",
       "      <td>{}</td>\n",
       "    </tr>\n",
       "    <tr>\n",
       "      <th>1</th>\n",
       "      <td>5836</td>\n",
       "      <td>Induction of myelodysplasia by myeloid-derived...</td>\n",
       "      <td>Myelodysplastic syndromes (MDS) are age-depend...</td>\n",
       "      <td>{}</td>\n",
       "    </tr>\n",
       "    <tr>\n",
       "      <th>2</th>\n",
       "      <td>7912</td>\n",
       "      <td>BC1 RNA, the transcript from a master gene for...</td>\n",
       "      <td>ID elements are short interspersed elements (S...</td>\n",
       "      <td>{}</td>\n",
       "    </tr>\n",
       "    <tr>\n",
       "      <th>3</th>\n",
       "      <td>18670</td>\n",
       "      <td>The DNA Methylome of Human Peripheral Blood Mo...</td>\n",
       "      <td>DNA methylation plays an important role in bio...</td>\n",
       "      <td>{}</td>\n",
       "    </tr>\n",
       "    <tr>\n",
       "      <th>4</th>\n",
       "      <td>19238</td>\n",
       "      <td>The human myelin basic protein gene is include...</td>\n",
       "      <td>Two human Golli (for gene expressed in the oli...</td>\n",
       "      <td>{}</td>\n",
       "    </tr>\n",
       "    <tr>\n",
       "      <th>...</th>\n",
       "      <td>...</td>\n",
       "      <td>...</td>\n",
       "      <td>...</td>\n",
       "      <td>...</td>\n",
       "    </tr>\n",
       "    <tr>\n",
       "      <th>5178</th>\n",
       "      <td>195689316</td>\n",
       "      <td>Body-mass index and cause-specific mortality i...</td>\n",
       "      <td>BACKGROUND The main associations of body-mass ...</td>\n",
       "      <td>{}</td>\n",
       "    </tr>\n",
       "    <tr>\n",
       "      <th>5179</th>\n",
       "      <td>195689757</td>\n",
       "      <td>Targeting metabolic remodeling in glioblastoma...</td>\n",
       "      <td>A key aberrant biological difference between t...</td>\n",
       "      <td>{}</td>\n",
       "    </tr>\n",
       "    <tr>\n",
       "      <th>5180</th>\n",
       "      <td>196664003</td>\n",
       "      <td>Signaling architectures that transmit unidirec...</td>\n",
       "      <td>A signaling pathway transmits information from...</td>\n",
       "      <td>{}</td>\n",
       "    </tr>\n",
       "    <tr>\n",
       "      <th>5181</th>\n",
       "      <td>198133135</td>\n",
       "      <td>Association between pre-diabetes, type 2 diabe...</td>\n",
       "      <td>AIMS Trabecular bone score (TBS) is a surrogat...</td>\n",
       "      <td>{}</td>\n",
       "    </tr>\n",
       "    <tr>\n",
       "      <th>5182</th>\n",
       "      <td>198309074</td>\n",
       "      <td>Adhesion molecules and chemokines: relation to...</td>\n",
       "      <td>Introduction: Among the inflammatory mediators...</td>\n",
       "      <td>{}</td>\n",
       "    </tr>\n",
       "  </tbody>\n",
       "</table>\n",
       "<p>5183 rows × 4 columns</p>\n",
       "</div>"
      ],
      "text/plain": [
       "            _id                                              title  \\\n",
       "0          4983  Microstructural development of human newborn c...   \n",
       "1          5836  Induction of myelodysplasia by myeloid-derived...   \n",
       "2          7912  BC1 RNA, the transcript from a master gene for...   \n",
       "3         18670  The DNA Methylome of Human Peripheral Blood Mo...   \n",
       "4         19238  The human myelin basic protein gene is include...   \n",
       "...         ...                                                ...   \n",
       "5178  195689316  Body-mass index and cause-specific mortality i...   \n",
       "5179  195689757  Targeting metabolic remodeling in glioblastoma...   \n",
       "5180  196664003  Signaling architectures that transmit unidirec...   \n",
       "5181  198133135  Association between pre-diabetes, type 2 diabe...   \n",
       "5182  198309074  Adhesion molecules and chemokines: relation to...   \n",
       "\n",
       "                                                   text metadata  \n",
       "0     Alterations of the architecture of cerebral wh...       {}  \n",
       "1     Myelodysplastic syndromes (MDS) are age-depend...       {}  \n",
       "2     ID elements are short interspersed elements (S...       {}  \n",
       "3     DNA methylation plays an important role in bio...       {}  \n",
       "4     Two human Golli (for gene expressed in the oli...       {}  \n",
       "...                                                 ...      ...  \n",
       "5178  BACKGROUND The main associations of body-mass ...       {}  \n",
       "5179  A key aberrant biological difference between t...       {}  \n",
       "5180  A signaling pathway transmits information from...       {}  \n",
       "5181  AIMS Trabecular bone score (TBS) is a surrogat...       {}  \n",
       "5182  Introduction: Among the inflammatory mediators...       {}  \n",
       "\n",
       "[5183 rows x 4 columns]"
      ]
     },
     "execution_count": 4,
     "metadata": {},
     "output_type": "execute_result"
    }
   ],
   "source": [
    "corpus_df = pd.read_json(f\"data/data_{dataset_dir}/corpus.jsonl\", lines=True)\n",
    "corpus_df"
   ]
  },
  {
   "cell_type": "code",
   "execution_count": 5,
   "id": "corporate-junction",
   "metadata": {},
   "outputs": [
    {
     "data": {
      "text/html": [
       "<div>\n",
       "<style scoped>\n",
       "    .dataframe tbody tr th:only-of-type {\n",
       "        vertical-align: middle;\n",
       "    }\n",
       "\n",
       "    .dataframe tbody tr th {\n",
       "        vertical-align: top;\n",
       "    }\n",
       "\n",
       "    .dataframe thead th {\n",
       "        text-align: right;\n",
       "    }\n",
       "</style>\n",
       "<table border=\"1\" class=\"dataframe\">\n",
       "  <thead>\n",
       "    <tr style=\"text-align: right;\">\n",
       "      <th></th>\n",
       "      <th>query-id</th>\n",
       "      <th>corpus-id</th>\n",
       "      <th>score</th>\n",
       "    </tr>\n",
       "  </thead>\n",
       "  <tbody>\n",
       "    <tr>\n",
       "      <th>0</th>\n",
       "      <td>1</td>\n",
       "      <td>31715818</td>\n",
       "      <td>1</td>\n",
       "    </tr>\n",
       "    <tr>\n",
       "      <th>1</th>\n",
       "      <td>3</td>\n",
       "      <td>14717500</td>\n",
       "      <td>1</td>\n",
       "    </tr>\n",
       "    <tr>\n",
       "      <th>2</th>\n",
       "      <td>5</td>\n",
       "      <td>13734012</td>\n",
       "      <td>1</td>\n",
       "    </tr>\n",
       "    <tr>\n",
       "      <th>3</th>\n",
       "      <td>13</td>\n",
       "      <td>1606628</td>\n",
       "      <td>1</td>\n",
       "    </tr>\n",
       "    <tr>\n",
       "      <th>4</th>\n",
       "      <td>36</td>\n",
       "      <td>5152028</td>\n",
       "      <td>1</td>\n",
       "    </tr>\n",
       "    <tr>\n",
       "      <th>...</th>\n",
       "      <td>...</td>\n",
       "      <td>...</td>\n",
       "      <td>...</td>\n",
       "    </tr>\n",
       "    <tr>\n",
       "      <th>334</th>\n",
       "      <td>1379</td>\n",
       "      <td>17450673</td>\n",
       "      <td>1</td>\n",
       "    </tr>\n",
       "    <tr>\n",
       "      <th>335</th>\n",
       "      <td>1382</td>\n",
       "      <td>17755060</td>\n",
       "      <td>1</td>\n",
       "    </tr>\n",
       "    <tr>\n",
       "      <th>336</th>\n",
       "      <td>1385</td>\n",
       "      <td>306006</td>\n",
       "      <td>1</td>\n",
       "    </tr>\n",
       "    <tr>\n",
       "      <th>337</th>\n",
       "      <td>1389</td>\n",
       "      <td>23895668</td>\n",
       "      <td>1</td>\n",
       "    </tr>\n",
       "    <tr>\n",
       "      <th>338</th>\n",
       "      <td>1395</td>\n",
       "      <td>17717391</td>\n",
       "      <td>1</td>\n",
       "    </tr>\n",
       "  </tbody>\n",
       "</table>\n",
       "<p>339 rows × 3 columns</p>\n",
       "</div>"
      ],
      "text/plain": [
       "     query-id  corpus-id  score\n",
       "0           1   31715818      1\n",
       "1           3   14717500      1\n",
       "2           5   13734012      1\n",
       "3          13    1606628      1\n",
       "4          36    5152028      1\n",
       "..        ...        ...    ...\n",
       "334      1379   17450673      1\n",
       "335      1382   17755060      1\n",
       "336      1385     306006      1\n",
       "337      1389   23895668      1\n",
       "338      1395   17717391      1\n",
       "\n",
       "[339 rows x 3 columns]"
      ]
     },
     "execution_count": 5,
     "metadata": {},
     "output_type": "execute_result"
    }
   ],
   "source": [
    "test_rel_df = pd.read_csv(f\"data/data_{dataset_dir}/qrels/test.tsv\", sep=\"\\t\")\n",
    "test_rel_df"
   ]
  },
  {
   "cell_type": "markdown",
   "id": "consecutive-honey",
   "metadata": {},
   "source": [
    "## Converting to the Simple Transformers format"
   ]
  },
  {
   "cell_type": "markdown",
   "id": "smaller-arrangement",
   "metadata": {},
   "source": [
    "For evaluation with Simple Transformers, we are going to generate 3 files."
   ]
  },
  {
   "cell_type": "markdown",
   "id": "level-alliance",
   "metadata": {},
   "source": [
    "### TSV file with queries\n",
    "\n",
    "This file contains:\n",
    "- query_text\n",
    "- title\n",
    "- gold_passage"
   ]
  },
  {
   "cell_type": "markdown",
   "id": "determined-bolivia",
   "metadata": {},
   "source": [
    "### TSV file with the passage collection\n",
    "\n",
    "This file only needs a `passage` column"
   ]
  },
  {
   "cell_type": "markdown",
   "id": "sufficient-lafayette",
   "metadata": {},
   "source": [
    "### JSON file with the same number of entries as the queries (Optional)\n",
    "\n",
    "This optional file contains a list of lists, where each item in the outer list is a list of relevant documents for each query.\n",
    "\n",
    "E.g.:\n",
    "\n",
    "```python\n",
    "relevant_docs = [\n",
    "    [\"relevant doc 1a\", \"relevant doc 1b\"],\n",
    "    [\"relevant doc 2a\", \"relevant doc 2b\"],\n",
    "]\n",
    "```\n",
    "\n",
    "If this file is provided, the `evaluate_model` method will check the retrieved documents against each of the relevant documents in the file. If this is not provided, `evaluate_model()` will only check against the `gold_passage` column in the *queries* file."
   ]
  },
  {
   "cell_type": "code",
   "execution_count": 6,
   "id": "starting-ghana",
   "metadata": {},
   "outputs": [],
   "source": [
    "query_df = query_df.rename(columns={\"_id\": \"query_id\"})\n",
    "test_rel_df = test_rel_df.rename(\n",
    "    columns={\"query-id\": \"query_id\", \"corpus-id\": \"corpus_id\"}\n",
    ")\n",
    "corpus_df = corpus_df.rename(columns={\"_id\": \"corpus_id\"})"
   ]
  },
  {
   "cell_type": "code",
   "execution_count": 7,
   "id": "partial-monitor",
   "metadata": {},
   "outputs": [],
   "source": [
    "def get_relevant_title_and_text(query_id, corpus_id, corpus_df, query_df):\n",
    "    try:\n",
    "        query_text = query_df.loc[query_df[\"query_id\"] == query_id, \"text\"].values[0]\n",
    "    except:\n",
    "        return None, None, None\n",
    "\n",
    "    relevant_passage = corpus_df[corpus_df[\"corpus_id\"] == corpus_id]\n",
    "    if not relevant_passage[\"text\"].values[0]:\n",
    "        return None, None, None\n",
    "    return query_text, relevant_passage[\"title\"].values[0], relevant_passage[\"text\"].values[0]\n",
    "\n",
    "\n",
    "def get_test_and_relevance_data(df):\n",
    "    if df.iloc[0][\"title\"]:\n",
    "        df[\"combined_passage\"] = df[\"title\"] + \" \" + df[\"gold_passage\"]\n",
    "    else:\n",
    "        df[\"combined_passage\"] = df[\"gold_passage\"]\n",
    "    relevant_docs = []\n",
    "    for query_id in tqdm(df[\"query_id\"].unique()):\n",
    "        sub_df = df[df[\"query_id\"] == query_id]\n",
    "        relevant_docs.append(sub_df[\"combined_passage\"].tolist())\n",
    "    \n",
    "    df = df.drop(\"combined_passage\", axis=1)\n",
    "    return df, relevant_docs\n",
    "\n",
    "\n",
    "def build_st_format_data(query_df, rel_df, corpus_df):\n",
    "    query_dict = {\n",
    "        \"query_text\": [],\n",
    "        \"title\": [],\n",
    "        \"gold_passage\": [],\n",
    "        \"query_id\": [],\n",
    "    }\n",
    "\n",
    "    for query_id, corpus_id in tqdm(zip(rel_df[\"query_id\"], rel_df[\"corpus_id\"]), total=len(rel_df)):\n",
    "        try:\n",
    "            query_text, title, gold_passage = get_relevant_title_and_text(\n",
    "                query_id,\n",
    "                corpus_id,\n",
    "                corpus_df,\n",
    "                query_df,\n",
    "            )\n",
    "        except Exception as e:\n",
    "            continue\n",
    "        query_dict[\"query_text\"].append(query_text)\n",
    "        query_dict[\"title\"].append(title)\n",
    "        query_dict[\"gold_passage\"].append(gold_passage)\n",
    "        query_dict[\"query_id\"].append(query_id)\n",
    "\n",
    "    df = pd.DataFrame(query_dict).dropna()\n",
    "\n",
    "    return get_test_and_relevance_data(df)\n"
   ]
  },
  {
   "cell_type": "code",
   "execution_count": 8,
   "id": "peaceful-equipment",
   "metadata": {},
   "outputs": [
    {
     "data": {
      "application/vnd.jupyter.widget-view+json": {
       "model_id": "d2c4de95dc2d41f6851a70cb06979fb3",
       "version_major": 2,
       "version_minor": 0
      },
      "text/plain": [
       "  0%|          | 0/339 [00:00<?, ?it/s]"
      ]
     },
     "metadata": {},
     "output_type": "display_data"
    },
    {
     "data": {
      "application/vnd.jupyter.widget-view+json": {
       "model_id": "78d7e85b18fe4c92bf245210be743f96",
       "version_major": 2,
       "version_minor": 0
      },
      "text/plain": [
       "  0%|          | 0/300 [00:00<?, ?it/s]"
      ]
     },
     "metadata": {},
     "output_type": "display_data"
    }
   ],
   "source": [
    "test_df, relevant_docs = build_st_format_data(query_df, test_rel_df, corpus_df)"
   ]
  },
  {
   "cell_type": "code",
   "execution_count": 9,
   "id": "announced-split",
   "metadata": {},
   "outputs": [],
   "source": [
    "test_df = test_df.drop_duplicates(subset=[\"query_id\"])"
   ]
  },
  {
   "cell_type": "code",
   "execution_count": 10,
   "id": "functional-conclusion",
   "metadata": {},
   "outputs": [
    {
     "data": {
      "text/html": [
       "<div>\n",
       "<style scoped>\n",
       "    .dataframe tbody tr th:only-of-type {\n",
       "        vertical-align: middle;\n",
       "    }\n",
       "\n",
       "    .dataframe tbody tr th {\n",
       "        vertical-align: top;\n",
       "    }\n",
       "\n",
       "    .dataframe thead th {\n",
       "        text-align: right;\n",
       "    }\n",
       "</style>\n",
       "<table border=\"1\" class=\"dataframe\">\n",
       "  <thead>\n",
       "    <tr style=\"text-align: right;\">\n",
       "      <th></th>\n",
       "      <th>query_text</th>\n",
       "      <th>title</th>\n",
       "      <th>gold_passage</th>\n",
       "      <th>query_id</th>\n",
       "    </tr>\n",
       "  </thead>\n",
       "  <tbody>\n",
       "    <tr>\n",
       "      <th>0</th>\n",
       "      <td>0-dimensional biomaterials show inductive prop...</td>\n",
       "      <td>New opportunities: the use of nanotechnologies...</td>\n",
       "      <td>Nanotechnologies are emerging platforms that c...</td>\n",
       "      <td>1</td>\n",
       "    </tr>\n",
       "    <tr>\n",
       "      <th>1</th>\n",
       "      <td>1,000 genomes project enables mapping of genet...</td>\n",
       "      <td>Rare Variants Create Synthetic Genome-Wide Ass...</td>\n",
       "      <td>Genome-wide association studies (GWAS) have no...</td>\n",
       "      <td>3</td>\n",
       "    </tr>\n",
       "    <tr>\n",
       "      <th>2</th>\n",
       "      <td>1/2000 in UK have abnormal PrP positivity.</td>\n",
       "      <td>Prevalent abnormal prion protein in human appe...</td>\n",
       "      <td>OBJECTIVES To carry out a further survey of ar...</td>\n",
       "      <td>5</td>\n",
       "    </tr>\n",
       "    <tr>\n",
       "      <th>3</th>\n",
       "      <td>5% of perinatal mortality is due to low birth ...</td>\n",
       "      <td>Estimates of global prevalence of childhood un...</td>\n",
       "      <td>CONTEXT One key target of the United Nations M...</td>\n",
       "      <td>13</td>\n",
       "    </tr>\n",
       "    <tr>\n",
       "      <th>4</th>\n",
       "      <td>A deficiency of vitamin B12 increases blood le...</td>\n",
       "      <td>Folic acid improves endothelial function in co...</td>\n",
       "      <td>BACKGROUND Homocysteine is a risk factor for c...</td>\n",
       "      <td>36</td>\n",
       "    </tr>\n",
       "    <tr>\n",
       "      <th>...</th>\n",
       "      <td>...</td>\n",
       "      <td>...</td>\n",
       "      <td>...</td>\n",
       "      <td>...</td>\n",
       "    </tr>\n",
       "    <tr>\n",
       "      <th>331</th>\n",
       "      <td>Women with a higher birth weight are more like...</td>\n",
       "      <td>Birth Size and Breast Cancer Risk: Re-analysis...</td>\n",
       "      <td>BACKGROUND Birth size, perhaps a proxy for pre...</td>\n",
       "      <td>1379</td>\n",
       "    </tr>\n",
       "    <tr>\n",
       "      <th>335</th>\n",
       "      <td>aPKCz causes tumour enhancement by affecting g...</td>\n",
       "      <td>Control of Nutrient Stress-Induced Metabolic R...</td>\n",
       "      <td>Tumor cells have high-energetic and anabolic n...</td>\n",
       "      <td>1382</td>\n",
       "    </tr>\n",
       "    <tr>\n",
       "      <th>336</th>\n",
       "      <td>cSMAC formation enhances weak ligand signalling.</td>\n",
       "      <td>The stimulatory potency of T cell antigens is ...</td>\n",
       "      <td>T cell activation is predicated on the interac...</td>\n",
       "      <td>1385</td>\n",
       "    </tr>\n",
       "    <tr>\n",
       "      <th>337</th>\n",
       "      <td>mTORC2 regulates intracellular cysteine levels...</td>\n",
       "      <td>mTORC2 Regulates Amino Acid Metabolism in Canc...</td>\n",
       "      <td>Mutations in cancer reprogram amino acid metab...</td>\n",
       "      <td>1389</td>\n",
       "    </tr>\n",
       "    <tr>\n",
       "      <th>338</th>\n",
       "      <td>p16INK4A accumulation is  linked to an abnorma...</td>\n",
       "      <td>Monitoring Tumorigenesis and Senescence In Viv...</td>\n",
       "      <td>Monitoring cancer and aging in vivo remains ex...</td>\n",
       "      <td>1395</td>\n",
       "    </tr>\n",
       "  </tbody>\n",
       "</table>\n",
       "<p>300 rows × 4 columns</p>\n",
       "</div>"
      ],
      "text/plain": [
       "                                            query_text  \\\n",
       "0    0-dimensional biomaterials show inductive prop...   \n",
       "1    1,000 genomes project enables mapping of genet...   \n",
       "2           1/2000 in UK have abnormal PrP positivity.   \n",
       "3    5% of perinatal mortality is due to low birth ...   \n",
       "4    A deficiency of vitamin B12 increases blood le...   \n",
       "..                                                 ...   \n",
       "331  Women with a higher birth weight are more like...   \n",
       "335  aPKCz causes tumour enhancement by affecting g...   \n",
       "336   cSMAC formation enhances weak ligand signalling.   \n",
       "337  mTORC2 regulates intracellular cysteine levels...   \n",
       "338  p16INK4A accumulation is  linked to an abnorma...   \n",
       "\n",
       "                                                 title  \\\n",
       "0    New opportunities: the use of nanotechnologies...   \n",
       "1    Rare Variants Create Synthetic Genome-Wide Ass...   \n",
       "2    Prevalent abnormal prion protein in human appe...   \n",
       "3    Estimates of global prevalence of childhood un...   \n",
       "4    Folic acid improves endothelial function in co...   \n",
       "..                                                 ...   \n",
       "331  Birth Size and Breast Cancer Risk: Re-analysis...   \n",
       "335  Control of Nutrient Stress-Induced Metabolic R...   \n",
       "336  The stimulatory potency of T cell antigens is ...   \n",
       "337  mTORC2 Regulates Amino Acid Metabolism in Canc...   \n",
       "338  Monitoring Tumorigenesis and Senescence In Viv...   \n",
       "\n",
       "                                          gold_passage  query_id  \n",
       "0    Nanotechnologies are emerging platforms that c...         1  \n",
       "1    Genome-wide association studies (GWAS) have no...         3  \n",
       "2    OBJECTIVES To carry out a further survey of ar...         5  \n",
       "3    CONTEXT One key target of the United Nations M...        13  \n",
       "4    BACKGROUND Homocysteine is a risk factor for c...        36  \n",
       "..                                                 ...       ...  \n",
       "331  BACKGROUND Birth size, perhaps a proxy for pre...      1379  \n",
       "335  Tumor cells have high-energetic and anabolic n...      1382  \n",
       "336  T cell activation is predicated on the interac...      1385  \n",
       "337  Mutations in cancer reprogram amino acid metab...      1389  \n",
       "338  Monitoring cancer and aging in vivo remains ex...      1395  \n",
       "\n",
       "[300 rows x 4 columns]"
      ]
     },
     "execution_count": 10,
     "metadata": {},
     "output_type": "execute_result"
    }
   ],
   "source": [
    "test_df"
   ]
  },
  {
   "cell_type": "code",
   "execution_count": 10,
   "id": "perceived-somalia",
   "metadata": {},
   "outputs": [
    {
     "data": {
      "text/html": [
       "<div>\n",
       "<style scoped>\n",
       "    .dataframe tbody tr th:only-of-type {\n",
       "        vertical-align: middle;\n",
       "    }\n",
       "\n",
       "    .dataframe tbody tr th {\n",
       "        vertical-align: top;\n",
       "    }\n",
       "\n",
       "    .dataframe thead th {\n",
       "        text-align: right;\n",
       "    }\n",
       "</style>\n",
       "<table border=\"1\" class=\"dataframe\">\n",
       "  <thead>\n",
       "    <tr style=\"text-align: right;\">\n",
       "      <th></th>\n",
       "      <th>corpus_id</th>\n",
       "      <th>title</th>\n",
       "      <th>text</th>\n",
       "      <th>metadata</th>\n",
       "    </tr>\n",
       "  </thead>\n",
       "  <tbody>\n",
       "    <tr>\n",
       "      <th>0</th>\n",
       "      <td>4983</td>\n",
       "      <td>Microstructural development of human newborn c...</td>\n",
       "      <td>Alterations of the architecture of cerebral wh...</td>\n",
       "      <td>{}</td>\n",
       "    </tr>\n",
       "    <tr>\n",
       "      <th>1</th>\n",
       "      <td>5836</td>\n",
       "      <td>Induction of myelodysplasia by myeloid-derived...</td>\n",
       "      <td>Myelodysplastic syndromes (MDS) are age-depend...</td>\n",
       "      <td>{}</td>\n",
       "    </tr>\n",
       "    <tr>\n",
       "      <th>2</th>\n",
       "      <td>7912</td>\n",
       "      <td>BC1 RNA, the transcript from a master gene for...</td>\n",
       "      <td>ID elements are short interspersed elements (S...</td>\n",
       "      <td>{}</td>\n",
       "    </tr>\n",
       "    <tr>\n",
       "      <th>3</th>\n",
       "      <td>18670</td>\n",
       "      <td>The DNA Methylome of Human Peripheral Blood Mo...</td>\n",
       "      <td>DNA methylation plays an important role in bio...</td>\n",
       "      <td>{}</td>\n",
       "    </tr>\n",
       "    <tr>\n",
       "      <th>4</th>\n",
       "      <td>19238</td>\n",
       "      <td>The human myelin basic protein gene is include...</td>\n",
       "      <td>Two human Golli (for gene expressed in the oli...</td>\n",
       "      <td>{}</td>\n",
       "    </tr>\n",
       "    <tr>\n",
       "      <th>...</th>\n",
       "      <td>...</td>\n",
       "      <td>...</td>\n",
       "      <td>...</td>\n",
       "      <td>...</td>\n",
       "    </tr>\n",
       "    <tr>\n",
       "      <th>5178</th>\n",
       "      <td>195689316</td>\n",
       "      <td>Body-mass index and cause-specific mortality i...</td>\n",
       "      <td>BACKGROUND The main associations of body-mass ...</td>\n",
       "      <td>{}</td>\n",
       "    </tr>\n",
       "    <tr>\n",
       "      <th>5179</th>\n",
       "      <td>195689757</td>\n",
       "      <td>Targeting metabolic remodeling in glioblastoma...</td>\n",
       "      <td>A key aberrant biological difference between t...</td>\n",
       "      <td>{}</td>\n",
       "    </tr>\n",
       "    <tr>\n",
       "      <th>5180</th>\n",
       "      <td>196664003</td>\n",
       "      <td>Signaling architectures that transmit unidirec...</td>\n",
       "      <td>A signaling pathway transmits information from...</td>\n",
       "      <td>{}</td>\n",
       "    </tr>\n",
       "    <tr>\n",
       "      <th>5181</th>\n",
       "      <td>198133135</td>\n",
       "      <td>Association between pre-diabetes, type 2 diabe...</td>\n",
       "      <td>AIMS Trabecular bone score (TBS) is a surrogat...</td>\n",
       "      <td>{}</td>\n",
       "    </tr>\n",
       "    <tr>\n",
       "      <th>5182</th>\n",
       "      <td>198309074</td>\n",
       "      <td>Adhesion molecules and chemokines: relation to...</td>\n",
       "      <td>Introduction: Among the inflammatory mediators...</td>\n",
       "      <td>{}</td>\n",
       "    </tr>\n",
       "  </tbody>\n",
       "</table>\n",
       "<p>5183 rows × 4 columns</p>\n",
       "</div>"
      ],
      "text/plain": [
       "      corpus_id                                              title  \\\n",
       "0          4983  Microstructural development of human newborn c...   \n",
       "1          5836  Induction of myelodysplasia by myeloid-derived...   \n",
       "2          7912  BC1 RNA, the transcript from a master gene for...   \n",
       "3         18670  The DNA Methylome of Human Peripheral Blood Mo...   \n",
       "4         19238  The human myelin basic protein gene is include...   \n",
       "...         ...                                                ...   \n",
       "5178  195689316  Body-mass index and cause-specific mortality i...   \n",
       "5179  195689757  Targeting metabolic remodeling in glioblastoma...   \n",
       "5180  196664003  Signaling architectures that transmit unidirec...   \n",
       "5181  198133135  Association between pre-diabetes, type 2 diabe...   \n",
       "5182  198309074  Adhesion molecules and chemokines: relation to...   \n",
       "\n",
       "                                                   text metadata  \n",
       "0     Alterations of the architecture of cerebral wh...       {}  \n",
       "1     Myelodysplastic syndromes (MDS) are age-depend...       {}  \n",
       "2     ID elements are short interspersed elements (S...       {}  \n",
       "3     DNA methylation plays an important role in bio...       {}  \n",
       "4     Two human Golli (for gene expressed in the oli...       {}  \n",
       "...                                                 ...      ...  \n",
       "5178  BACKGROUND The main associations of body-mass ...       {}  \n",
       "5179  A key aberrant biological difference between t...       {}  \n",
       "5180  A signaling pathway transmits information from...       {}  \n",
       "5181  AIMS Trabecular bone score (TBS) is a surrogat...       {}  \n",
       "5182  Introduction: Among the inflammatory mediators...       {}  \n",
       "\n",
       "[5183 rows x 4 columns]"
      ]
     },
     "execution_count": 10,
     "metadata": {},
     "output_type": "execute_result"
    }
   ],
   "source": [
    "corpus_df"
   ]
  },
  {
   "cell_type": "code",
   "execution_count": 11,
   "id": "alpine-python",
   "metadata": {},
   "outputs": [
    {
     "data": {
      "text/html": [
       "<div>\n",
       "<style scoped>\n",
       "    .dataframe tbody tr th:only-of-type {\n",
       "        vertical-align: middle;\n",
       "    }\n",
       "\n",
       "    .dataframe tbody tr th {\n",
       "        vertical-align: top;\n",
       "    }\n",
       "\n",
       "    .dataframe thead th {\n",
       "        text-align: right;\n",
       "    }\n",
       "</style>\n",
       "<table border=\"1\" class=\"dataframe\">\n",
       "  <thead>\n",
       "    <tr style=\"text-align: right;\">\n",
       "      <th></th>\n",
       "      <th>corpus_id</th>\n",
       "      <th>passages</th>\n",
       "    </tr>\n",
       "  </thead>\n",
       "  <tbody>\n",
       "    <tr>\n",
       "      <th>0</th>\n",
       "      <td>4983</td>\n",
       "      <td>Microstructural development of human newborn c...</td>\n",
       "    </tr>\n",
       "    <tr>\n",
       "      <th>1</th>\n",
       "      <td>5836</td>\n",
       "      <td>Induction of myelodysplasia by myeloid-derived...</td>\n",
       "    </tr>\n",
       "    <tr>\n",
       "      <th>2</th>\n",
       "      <td>7912</td>\n",
       "      <td>BC1 RNA, the transcript from a master gene for...</td>\n",
       "    </tr>\n",
       "    <tr>\n",
       "      <th>3</th>\n",
       "      <td>18670</td>\n",
       "      <td>The DNA Methylome of Human Peripheral Blood Mo...</td>\n",
       "    </tr>\n",
       "    <tr>\n",
       "      <th>4</th>\n",
       "      <td>19238</td>\n",
       "      <td>The human myelin basic protein gene is include...</td>\n",
       "    </tr>\n",
       "    <tr>\n",
       "      <th>...</th>\n",
       "      <td>...</td>\n",
       "      <td>...</td>\n",
       "    </tr>\n",
       "    <tr>\n",
       "      <th>5178</th>\n",
       "      <td>195689316</td>\n",
       "      <td>Body-mass index and cause-specific mortality i...</td>\n",
       "    </tr>\n",
       "    <tr>\n",
       "      <th>5179</th>\n",
       "      <td>195689757</td>\n",
       "      <td>Targeting metabolic remodeling in glioblastoma...</td>\n",
       "    </tr>\n",
       "    <tr>\n",
       "      <th>5180</th>\n",
       "      <td>196664003</td>\n",
       "      <td>Signaling architectures that transmit unidirec...</td>\n",
       "    </tr>\n",
       "    <tr>\n",
       "      <th>5181</th>\n",
       "      <td>198133135</td>\n",
       "      <td>Association between pre-diabetes, type 2 diabe...</td>\n",
       "    </tr>\n",
       "    <tr>\n",
       "      <th>5182</th>\n",
       "      <td>198309074</td>\n",
       "      <td>Adhesion molecules and chemokines: relation to...</td>\n",
       "    </tr>\n",
       "  </tbody>\n",
       "</table>\n",
       "<p>5183 rows × 2 columns</p>\n",
       "</div>"
      ],
      "text/plain": [
       "      corpus_id                                           passages\n",
       "0          4983  Microstructural development of human newborn c...\n",
       "1          5836  Induction of myelodysplasia by myeloid-derived...\n",
       "2          7912  BC1 RNA, the transcript from a master gene for...\n",
       "3         18670  The DNA Methylome of Human Peripheral Blood Mo...\n",
       "4         19238  The human myelin basic protein gene is include...\n",
       "...         ...                                                ...\n",
       "5178  195689316  Body-mass index and cause-specific mortality i...\n",
       "5179  195689757  Targeting metabolic remodeling in glioblastoma...\n",
       "5180  196664003  Signaling architectures that transmit unidirec...\n",
       "5181  198133135  Association between pre-diabetes, type 2 diabe...\n",
       "5182  198309074  Adhesion molecules and chemokines: relation to...\n",
       "\n",
       "[5183 rows x 2 columns]"
      ]
     },
     "execution_count": 11,
     "metadata": {},
     "output_type": "execute_result"
    }
   ],
   "source": [
    "corpus_df[\"passages\"] = corpus_df[\"title\"] + \" \" + corpus_df[\"text\"]\n",
    "corpus_df = corpus_df.drop_duplicates(subset=[\"passages\"])\n",
    "corpus_df = corpus_df.drop([\"title\", \"text\", \"metadata\"], axis=1)\n",
    "corpus_df"
   ]
  },
  {
   "cell_type": "markdown",
   "id": "strategic-knight",
   "metadata": {},
   "source": [
    "### Write to disk"
   ]
  },
  {
   "cell_type": "code",
   "execution_count": 12,
   "id": "extreme-treaty",
   "metadata": {},
   "outputs": [],
   "source": [
    "test_df.to_csv(f\"data/data_{dataset_dir}/test.tsv\", sep=\"\\t\", index=False)\n",
    "corpus_df.to_csv(f\"data/data_{dataset_dir}/corpus.tsv\", sep=\"\\t\", index=False)\n",
    "\n",
    "with open(f\"data/data_{dataset_dir}/relevant_docs.json\", \"w\") as f:\n",
    "    json.dump(relevant_docs, f)\n"
   ]
  },
  {
   "cell_type": "markdown",
   "id": "ongoing-studio",
   "metadata": {},
   "source": [
    "# Evaluate on the new dataset/corpus"
   ]
  },
  {
   "cell_type": "code",
   "execution_count": 13,
   "id": "bound-completion",
   "metadata": {},
   "outputs": [
    {
     "name": "stderr",
     "output_type": "stream",
     "text": [
      "2022-08-23 17:49:56.718734: I tensorflow/stream_executor/platform/default/dso_loader.cc:49] Successfully opened dynamic library libcudart.so.11.0\n"
     ]
    }
   ],
   "source": [
    "import logging\n",
    "import json\n",
    "import os\n",
    "from pprint import pprint\n",
    "\n",
    "from simpletransformers.retrieval import RetrievalModel, RetrievalArgs\n",
    "\n",
    "\n",
    "logging.basicConfig(level=logging.INFO)\n",
    "transformers_logger = logging.getLogger(\"transformers\")\n",
    "transformers_logger.setLevel(logging.WARNING)"
   ]
  },
  {
   "cell_type": "code",
   "execution_count": 14,
   "id": "superior-server",
   "metadata": {},
   "outputs": [],
   "source": [
    "eval_data = f\"data/data_{dataset_dir}/test.tsv\"\n",
    "index_path = f\"data/data_{dataset_dir}/corpus.tsv\"\n",
    "relevant_docs_path = f\"data/data_{dataset_dir}/relevant_docs.json\""
   ]
  },
  {
   "cell_type": "code",
   "execution_count": 15,
   "id": "molecular-snapshot",
   "metadata": {},
   "outputs": [],
   "source": [
    "# Load a model from the Huggingface Hub\n",
    "model_type = \"dpr\"\n",
    "model_name = None\n",
    "context_name = \"facebook/dpr-ctx_encoder-multiset-base\"\n",
    "question_name = \"facebook/dpr-question_encoder-multiset-base\"\n",
    "\n",
    "model_args = RetrievalArgs()\n",
    "model_args.include_title_in_knowledge_dataset = False  # The SciFact dataset passages don't have titles\n",
    "model_args.retrieve_n_docs = 100\n",
    "model_args.output_dir = f\"data/data_{dataset_dir}\""
   ]
  },
  {
   "cell_type": "code",
   "execution_count": 16,
   "id": "quick-player",
   "metadata": {},
   "outputs": [
    {
     "name": "stderr",
     "output_type": "stream",
     "text": [
      "Some weights of the model checkpoint at facebook/dpr-ctx_encoder-multiset-base were not used when initializing DPRContextEncoder: ['ctx_encoder.bert_model.pooler.dense.bias', 'ctx_encoder.bert_model.pooler.dense.weight']\n",
      "- This IS expected if you are initializing DPRContextEncoder from the checkpoint of a model trained on another task or with another architecture (e.g. initializing a BertForSequenceClassification model from a BertForPreTraining model).\n",
      "- This IS NOT expected if you are initializing DPRContextEncoder from the checkpoint of a model that you expect to be exactly identical (initializing a BertForSequenceClassification model from a BertForSequenceClassification model).\n",
      "The tokenizer class you load from this checkpoint is not the same type as the class this function is called from. It may result in unexpected tokenization. \n",
      "The tokenizer class you load from this checkpoint is 'DPRQuestionEncoderTokenizer'. \n",
      "The class this function is called from is 'DPRContextEncoderTokenizerFast'.\n",
      "Some weights of the model checkpoint at facebook/dpr-question_encoder-multiset-base were not used when initializing DPRQuestionEncoder: ['question_encoder.bert_model.pooler.dense.bias', 'question_encoder.bert_model.pooler.dense.weight']\n",
      "- This IS expected if you are initializing DPRQuestionEncoder from the checkpoint of a model trained on another task or with another architecture (e.g. initializing a BertForSequenceClassification model from a BertForPreTraining model).\n",
      "- This IS NOT expected if you are initializing DPRQuestionEncoder from the checkpoint of a model that you expect to be exactly identical (initializing a BertForSequenceClassification model from a BertForSequenceClassification model).\n",
      "INFO:simpletransformers.retrieval.retrieval_utils:Preparing prediction passages started\n",
      "WARNING:datasets.builder:Using custom data configuration default-b2ce6e3e028b1269\n"
     ]
    },
    {
     "name": "stdout",
     "output_type": "stream",
     "text": [
      "Downloading and preparing dataset csv/default to /deep_learning/.cache/huggingface/datasets/csv/default-b2ce6e3e028b1269/0.0.0/652c3096f041ee27b04d2232d41f10547a8fecda3e284a79a0ec4053c916ef7a...\n"
     ]
    },
    {
     "data": {
      "application/vnd.jupyter.widget-view+json": {
       "model_id": "d9ab27aa2eed45b7b373580032e8ee68",
       "version_major": 2,
       "version_minor": 0
      },
      "text/plain": [
       "Downloading data files:   0%|          | 0/1 [00:00<?, ?it/s]"
      ]
     },
     "metadata": {},
     "output_type": "display_data"
    },
    {
     "data": {
      "application/vnd.jupyter.widget-view+json": {
       "model_id": "5f6fce9af7bc4cef9e7a3640553ef310",
       "version_major": 2,
       "version_minor": 0
      },
      "text/plain": [
       "Extracting data files:   0%|          | 0/1 [00:00<?, ?it/s]"
      ]
     },
     "metadata": {},
     "output_type": "display_data"
    },
    {
     "data": {
      "application/vnd.jupyter.widget-view+json": {
       "model_id": "",
       "version_major": 2,
       "version_minor": 0
      },
      "text/plain": [
       "0 tables [00:00, ? tables/s]"
      ]
     },
     "metadata": {},
     "output_type": "display_data"
    },
    {
     "name": "stdout",
     "output_type": "stream",
     "text": [
      "Dataset csv downloaded and prepared to /deep_learning/.cache/huggingface/datasets/csv/default-b2ce6e3e028b1269/0.0.0/652c3096f041ee27b04d2232d41f10547a8fecda3e284a79a0ec4053c916ef7a. Subsequent calls will reuse this data.\n"
     ]
    },
    {
     "data": {
      "application/vnd.jupyter.widget-view+json": {
       "model_id": "410ca52fca3d4806bea50ba64aeb6b45",
       "version_major": 2,
       "version_minor": 0
      },
      "text/plain": [
       "  0%|          | 0/1 [00:00<?, ?it/s]"
      ]
     },
     "metadata": {},
     "output_type": "display_data"
    },
    {
     "name": "stderr",
     "output_type": "stream",
     "text": [
      "INFO:simpletransformers.retrieval.retrieval_utils:Preparing prediction passages completed\n",
      "INFO:simpletransformers.retrieval.retrieval_utils:Generating embeddings for prediction passages started\n"
     ]
    },
    {
     "data": {
      "application/vnd.jupyter.widget-view+json": {
       "model_id": "6d445485a3454c2ba8422ba0101564aa",
       "version_major": 2,
       "version_minor": 0
      },
      "text/plain": [
       "  0%|          | 0/41 [00:00<?, ?ba/s]"
      ]
     },
     "metadata": {},
     "output_type": "display_data"
    },
    {
     "name": "stderr",
     "output_type": "stream",
     "text": [
      "INFO:simpletransformers.retrieval.retrieval_utils:Generating embeddings for prediction passages completed\n",
      "INFO:simpletransformers.retrieval.retrieval_utils:Adding FAISS index to prediction passages\n"
     ]
    },
    {
     "data": {
      "application/vnd.jupyter.widget-view+json": {
       "model_id": "c40724532f564498964438b345473448",
       "version_major": 2,
       "version_minor": 0
      },
      "text/plain": [
       "  0%|          | 0/6 [00:00<?, ?it/s]"
      ]
     },
     "metadata": {},
     "output_type": "display_data"
    },
    {
     "name": "stderr",
     "output_type": "stream",
     "text": [
      "INFO:simpletransformers.retrieval.retrieval_utils:Adding FAISS index to prediction passages completed\n"
     ]
    }
   ],
   "source": [
    "model = RetrievalModel(\n",
    "    model_type=model_type,\n",
    "    model_name=model_name,\n",
    "    context_encoder_name=context_name,\n",
    "    query_encoder_name=question_name,\n",
    "    args=model_args,\n",
    "    prediction_passages=index_path,\n",
    ")"
   ]
  },
  {
   "cell_type": "code",
   "execution_count": 17,
   "id": "appreciated-baker",
   "metadata": {},
   "outputs": [
    {
     "name": "stderr",
     "output_type": "stream",
     "text": [
      "WARNING:datasets.builder:Using custom data configuration default-7d9ece215f39d7c7\n"
     ]
    },
    {
     "name": "stdout",
     "output_type": "stream",
     "text": [
      "Downloading and preparing dataset csv/default to /deep_learning/.cache/huggingface/datasets/csv/default-7d9ece215f39d7c7/0.0.0/652c3096f041ee27b04d2232d41f10547a8fecda3e284a79a0ec4053c916ef7a...\n"
     ]
    },
    {
     "data": {
      "application/vnd.jupyter.widget-view+json": {
       "model_id": "bba526eec3fc4186a8679208ec4ee069",
       "version_major": 2,
       "version_minor": 0
      },
      "text/plain": [
       "Downloading data files:   0%|          | 0/1 [00:00<?, ?it/s]"
      ]
     },
     "metadata": {},
     "output_type": "display_data"
    },
    {
     "data": {
      "application/vnd.jupyter.widget-view+json": {
       "model_id": "302736b8abcd41a8a44bacb7323bb4bc",
       "version_major": 2,
       "version_minor": 0
      },
      "text/plain": [
       "Extracting data files:   0%|          | 0/1 [00:00<?, ?it/s]"
      ]
     },
     "metadata": {},
     "output_type": "display_data"
    },
    {
     "data": {
      "application/vnd.jupyter.widget-view+json": {
       "model_id": "",
       "version_major": 2,
       "version_minor": 0
      },
      "text/plain": [
       "0 tables [00:00, ? tables/s]"
      ]
     },
     "metadata": {},
     "output_type": "display_data"
    },
    {
     "name": "stdout",
     "output_type": "stream",
     "text": [
      "Dataset csv downloaded and prepared to /deep_learning/.cache/huggingface/datasets/csv/default-7d9ece215f39d7c7/0.0.0/652c3096f041ee27b04d2232d41f10547a8fecda3e284a79a0ec4053c916ef7a. Subsequent calls will reuse this data.\n"
     ]
    },
    {
     "data": {
      "application/vnd.jupyter.widget-view+json": {
       "model_id": "ebeb59f087594014841387decb81701f",
       "version_major": 2,
       "version_minor": 0
      },
      "text/plain": [
       "  0%|          | 0/1 [00:00<?, ?it/s]"
      ]
     },
     "metadata": {},
     "output_type": "display_data"
    },
    {
     "data": {
      "application/vnd.jupyter.widget-view+json": {
       "model_id": "38e8b48d958743c48937a59a1ade06ed",
       "version_major": 2,
       "version_minor": 0
      },
      "text/plain": [
       "  0%|          | 0/300 [00:00<?, ?ex/s]"
      ]
     },
     "metadata": {},
     "output_type": "display_data"
    },
    {
     "data": {
      "application/vnd.jupyter.widget-view+json": {
       "model_id": "e1cb83fa9d734680a5ff583382610fce",
       "version_major": 2,
       "version_minor": 0
      },
      "text/plain": [
       "  0%|          | 0/1 [00:00<?, ?ba/s]"
      ]
     },
     "metadata": {},
     "output_type": "display_data"
    },
    {
     "data": {
      "application/vnd.jupyter.widget-view+json": {
       "model_id": "18ce1ab4d41e4cfea362e0fd65899a30",
       "version_major": 2,
       "version_minor": 0
      },
      "text/plain": [
       "Running Evaluation:   0%|          | 0/38 [00:00<?, ?it/s]"
      ]
     },
     "metadata": {},
     "output_type": "display_data"
    },
    {
     "name": "stderr",
     "output_type": "stream",
     "text": [
      "/home/thilina/Projects/simple-transformers/simpletransformers/retrieval/retrieval_model.py:1752: UserWarning: To copy construct from a tensor, it is recommended to use sourceTensor.clone().detach() or sourceTensor.clone().detach().requires_grad_(True), rather than torch.tensor(sourceTensor).\n",
      "  (max_idxs == torch.tensor(labels)).sum().cpu().detach().numpy().item()\n"
     ]
    },
    {
     "data": {
      "application/vnd.jupyter.widget-view+json": {
       "model_id": "926a724344f64c7cb62fccc7feb924f5",
       "version_major": 2,
       "version_minor": 0
      },
      "text/plain": [
       "Retrieving docs:   0%|          | 0/1 [00:00<?, ?it/s]"
      ]
     },
     "metadata": {},
     "output_type": "display_data"
    },
    {
     "name": "stderr",
     "output_type": "stream",
     "text": [
      "INFO:simpletransformers.retrieval.retrieval_model:{'eval_loss': 14.01247501373291, 'mrr_at_1': 0.19666666666666666, 'mrr_at_2': 0.235, 'mrr_at_3': 0.24722222222222223, 'mrr_at_5': 0.26072222222222224, 'mrr_at_10': 0.2709378306878307, 'mrr_at_20': 0.27644655752743985, 'mrr_at_100': 0.2806517790657296, 'top_1_accuracy': 0.19666666666666666, 'top_2_accuracy': 0.2733333333333333, 'top_3_accuracy': 0.31, 'top_5_accuracy': 0.37, 'top_10_accuracy': 0.45, 'top_20_accuracy': 0.5233333333333333, 'top_100_accuracy': 0.7033333333333334, 'recall_at_1': 0.18916666666666668, 'recall_at_2': 0.25816666666666666, 'recall_at_3': 0.29483333333333334, 'recall_at_5': 0.35283333333333333, 'recall_at_10': 0.43322222222222223, 'recall_at_20': 0.5057222222222222, 'recall_at_100': 0.6902222222222222}\n"
     ]
    }
   ],
   "source": [
    "results, *_ = model.eval_model(\n",
    "    eval_data,\n",
    "    top_k_values=[1, 2, 3, 5, 10, 20, 100],\n",
    "    relevant_docs=relevant_docs_path,\n",
    ")"
   ]
  },
  {
   "cell_type": "code",
   "execution_count": 18,
   "id": "blind-greeting",
   "metadata": {},
   "outputs": [
    {
     "data": {
      "text/plain": [
       "{'eval_loss': 14.01247501373291,\n",
       " 'mrr_at_1': 0.19666666666666666,\n",
       " 'mrr_at_2': 0.235,\n",
       " 'mrr_at_3': 0.24722222222222223,\n",
       " 'mrr_at_5': 0.26072222222222224,\n",
       " 'mrr_at_10': 0.2709378306878307,\n",
       " 'mrr_at_20': 0.27644655752743985,\n",
       " 'mrr_at_100': 0.2806517790657296,\n",
       " 'top_1_accuracy': 0.19666666666666666,\n",
       " 'top_2_accuracy': 0.2733333333333333,\n",
       " 'top_3_accuracy': 0.31,\n",
       " 'top_5_accuracy': 0.37,\n",
       " 'top_10_accuracy': 0.45,\n",
       " 'top_20_accuracy': 0.5233333333333333,\n",
       " 'top_100_accuracy': 0.7033333333333334,\n",
       " 'recall_at_1': 0.18916666666666668,\n",
       " 'recall_at_2': 0.25816666666666666,\n",
       " 'recall_at_3': 0.29483333333333334,\n",
       " 'recall_at_5': 0.35283333333333333,\n",
       " 'recall_at_10': 0.43322222222222223,\n",
       " 'recall_at_20': 0.5057222222222222,\n",
       " 'recall_at_100': 0.6902222222222222}"
      ]
     },
     "execution_count": 18,
     "metadata": {},
     "output_type": "execute_result"
    }
   ],
   "source": [
    "results"
   ]
  },
  {
   "cell_type": "code",
   "execution_count": null,
   "id": "permanent-hydrogen",
   "metadata": {},
   "outputs": [],
   "source": []
  }
 ],
 "metadata": {
  "kernelspec": {
   "display_name": "Python 3 (ipykernel)",
   "language": "python",
   "name": "python3"
  },
  "language_info": {
   "codemirror_mode": {
    "name": "ipython",
    "version": 3
   },
   "file_extension": ".py",
   "mimetype": "text/x-python",
   "name": "python",
   "nbconvert_exporter": "python",
   "pygments_lexer": "ipython3",
   "version": "3.7.7"
  }
 },
 "nbformat": 4,
 "nbformat_minor": 5
}
